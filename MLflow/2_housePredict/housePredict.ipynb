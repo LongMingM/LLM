{
 "cells": [
  {
   "cell_type": "code",
   "execution_count": 1,
   "metadata": {},
   "outputs": [],
   "source": [
    "import pandas as pd\n",
    "import mlflow\n",
    "import mlflow.sklearn\n",
    "\n",
    "from sklearn.ensemble import RandomForestRegressor\n",
    "from sklearn.model_selection import train_test_split, GridSearchCV\n",
    "from sklearn.metrics import mean_squared_error\n",
    "from sklearn.datasets import fetch_california_housing"
   ]
  },
  {
   "cell_type": "code",
   "execution_count": 2,
   "metadata": {},
   "outputs": [
    {
     "data": {
      "text/plain": [
       "{'data': array([[   8.3252    ,   41.        ,    6.98412698, ...,    2.55555556,\n",
       "           37.88      , -122.23      ],\n",
       "        [   8.3014    ,   21.        ,    6.23813708, ...,    2.10984183,\n",
       "           37.86      , -122.22      ],\n",
       "        [   7.2574    ,   52.        ,    8.28813559, ...,    2.80225989,\n",
       "           37.85      , -122.24      ],\n",
       "        ...,\n",
       "        [   1.7       ,   17.        ,    5.20554273, ...,    2.3256351 ,\n",
       "           39.43      , -121.22      ],\n",
       "        [   1.8672    ,   18.        ,    5.32951289, ...,    2.12320917,\n",
       "           39.43      , -121.32      ],\n",
       "        [   2.3886    ,   16.        ,    5.25471698, ...,    2.61698113,\n",
       "           39.37      , -121.24      ]], shape=(20640, 8)),\n",
       " 'target': array([4.526, 3.585, 3.521, ..., 0.923, 0.847, 0.894], shape=(20640,)),\n",
       " 'frame': None,\n",
       " 'target_names': ['MedHouseVal'],\n",
       " 'feature_names': ['MedInc',\n",
       "  'HouseAge',\n",
       "  'AveRooms',\n",
       "  'AveBedrms',\n",
       "  'Population',\n",
       "  'AveOccup',\n",
       "  'Latitude',\n",
       "  'Longitude'],\n",
       " 'DESCR': '.. _california_housing_dataset:\\n\\nCalifornia Housing dataset\\n--------------------------\\n\\n**Data Set Characteristics:**\\n\\n:Number of Instances: 20640\\n\\n:Number of Attributes: 8 numeric, predictive attributes and the target\\n\\n:Attribute Information:\\n    - MedInc        median income in block group\\n    - HouseAge      median house age in block group\\n    - AveRooms      average number of rooms per household\\n    - AveBedrms     average number of bedrooms per household\\n    - Population    block group population\\n    - AveOccup      average number of household members\\n    - Latitude      block group latitude\\n    - Longitude     block group longitude\\n\\n:Missing Attribute Values: None\\n\\nThis dataset was obtained from the StatLib repository.\\nhttps://www.dcc.fc.up.pt/~ltorgo/Regression/cal_housing.html\\n\\nThe target variable is the median house value for California districts,\\nexpressed in hundreds of thousands of dollars ($100,000).\\n\\nThis dataset was derived from the 1990 U.S. census, using one row per census\\nblock group. A block group is the smallest geographical unit for which the U.S.\\nCensus Bureau publishes sample data (a block group typically has a population\\nof 600 to 3,000 people).\\n\\nA household is a group of people residing within a home. Since the average\\nnumber of rooms and bedrooms in this dataset are provided per household, these\\ncolumns may take surprisingly large values for block groups with few households\\nand many empty houses, such as vacation resorts.\\n\\nIt can be downloaded/loaded using the\\n:func:`sklearn.datasets.fetch_california_housing` function.\\n\\n.. rubric:: References\\n\\n- Pace, R. Kelley and Ronald Barry, Sparse Spatial Autoregressions,\\n  Statistics and Probability Letters, 33:291-297, 1997.\\n'}"
      ]
     },
     "execution_count": 2,
     "metadata": {},
     "output_type": "execute_result"
    }
   ],
   "source": [
    "housing = fetch_california_housing()\n",
    "housing"
   ]
  },
  {
   "cell_type": "code",
   "execution_count": 3,
   "metadata": {},
   "outputs": [
    {
     "data": {
      "application/vnd.microsoft.datawrangler.viewer.v0+json": {
       "columns": [
        {
         "name": "index",
         "rawType": "int64",
         "type": "integer"
        },
        {
         "name": "MedInc",
         "rawType": "float64",
         "type": "float"
        },
        {
         "name": "HouseAge",
         "rawType": "float64",
         "type": "float"
        },
        {
         "name": "AveRooms",
         "rawType": "float64",
         "type": "float"
        },
        {
         "name": "AveBedrms",
         "rawType": "float64",
         "type": "float"
        },
        {
         "name": "Population",
         "rawType": "float64",
         "type": "float"
        },
        {
         "name": "AveOccup",
         "rawType": "float64",
         "type": "float"
        },
        {
         "name": "Latitude",
         "rawType": "float64",
         "type": "float"
        },
        {
         "name": "Longitude",
         "rawType": "float64",
         "type": "float"
        },
        {
         "name": "Price",
         "rawType": "float64",
         "type": "float"
        }
       ],
       "ref": "96473714-62bc-4dc7-8c3e-80b6c03af749",
       "rows": [
        [
         "0",
         "8.3252",
         "41.0",
         "6.984126984126984",
         "1.0238095238095237",
         "322.0",
         "2.5555555555555554",
         "37.88",
         "-122.23",
         "4.526"
        ],
        [
         "1",
         "8.3014",
         "21.0",
         "6.238137082601054",
         "0.9718804920913884",
         "2401.0",
         "2.109841827768014",
         "37.86",
         "-122.22",
         "3.585"
        ],
        [
         "2",
         "7.2574",
         "52.0",
         "8.288135593220339",
         "1.073446327683616",
         "496.0",
         "2.8022598870056497",
         "37.85",
         "-122.24",
         "3.521"
        ],
        [
         "3",
         "5.6431",
         "52.0",
         "5.8173515981735155",
         "1.0730593607305936",
         "558.0",
         "2.547945205479452",
         "37.85",
         "-122.25",
         "3.413"
        ],
        [
         "4",
         "3.8462",
         "52.0",
         "6.281853281853282",
         "1.0810810810810811",
         "565.0",
         "2.1814671814671813",
         "37.85",
         "-122.25",
         "3.422"
        ]
       ],
       "shape": {
        "columns": 9,
        "rows": 5
       }
      },
      "text/html": [
       "<div>\n",
       "<style scoped>\n",
       "    .dataframe tbody tr th:only-of-type {\n",
       "        vertical-align: middle;\n",
       "    }\n",
       "\n",
       "    .dataframe tbody tr th {\n",
       "        vertical-align: top;\n",
       "    }\n",
       "\n",
       "    .dataframe thead th {\n",
       "        text-align: right;\n",
       "    }\n",
       "</style>\n",
       "<table border=\"1\" class=\"dataframe\">\n",
       "  <thead>\n",
       "    <tr style=\"text-align: right;\">\n",
       "      <th></th>\n",
       "      <th>MedInc</th>\n",
       "      <th>HouseAge</th>\n",
       "      <th>AveRooms</th>\n",
       "      <th>AveBedrms</th>\n",
       "      <th>Population</th>\n",
       "      <th>AveOccup</th>\n",
       "      <th>Latitude</th>\n",
       "      <th>Longitude</th>\n",
       "      <th>Price</th>\n",
       "    </tr>\n",
       "  </thead>\n",
       "  <tbody>\n",
       "    <tr>\n",
       "      <th>0</th>\n",
       "      <td>8.3252</td>\n",
       "      <td>41.0</td>\n",
       "      <td>6.984127</td>\n",
       "      <td>1.023810</td>\n",
       "      <td>322.0</td>\n",
       "      <td>2.555556</td>\n",
       "      <td>37.88</td>\n",
       "      <td>-122.23</td>\n",
       "      <td>4.526</td>\n",
       "    </tr>\n",
       "    <tr>\n",
       "      <th>1</th>\n",
       "      <td>8.3014</td>\n",
       "      <td>21.0</td>\n",
       "      <td>6.238137</td>\n",
       "      <td>0.971880</td>\n",
       "      <td>2401.0</td>\n",
       "      <td>2.109842</td>\n",
       "      <td>37.86</td>\n",
       "      <td>-122.22</td>\n",
       "      <td>3.585</td>\n",
       "    </tr>\n",
       "    <tr>\n",
       "      <th>2</th>\n",
       "      <td>7.2574</td>\n",
       "      <td>52.0</td>\n",
       "      <td>8.288136</td>\n",
       "      <td>1.073446</td>\n",
       "      <td>496.0</td>\n",
       "      <td>2.802260</td>\n",
       "      <td>37.85</td>\n",
       "      <td>-122.24</td>\n",
       "      <td>3.521</td>\n",
       "    </tr>\n",
       "    <tr>\n",
       "      <th>3</th>\n",
       "      <td>5.6431</td>\n",
       "      <td>52.0</td>\n",
       "      <td>5.817352</td>\n",
       "      <td>1.073059</td>\n",
       "      <td>558.0</td>\n",
       "      <td>2.547945</td>\n",
       "      <td>37.85</td>\n",
       "      <td>-122.25</td>\n",
       "      <td>3.413</td>\n",
       "    </tr>\n",
       "    <tr>\n",
       "      <th>4</th>\n",
       "      <td>3.8462</td>\n",
       "      <td>52.0</td>\n",
       "      <td>6.281853</td>\n",
       "      <td>1.081081</td>\n",
       "      <td>565.0</td>\n",
       "      <td>2.181467</td>\n",
       "      <td>37.85</td>\n",
       "      <td>-122.25</td>\n",
       "      <td>3.422</td>\n",
       "    </tr>\n",
       "  </tbody>\n",
       "</table>\n",
       "</div>"
      ],
      "text/plain": [
       "   MedInc  HouseAge  AveRooms  AveBedrms  Population  AveOccup  Latitude  \\\n",
       "0  8.3252      41.0  6.984127   1.023810       322.0  2.555556     37.88   \n",
       "1  8.3014      21.0  6.238137   0.971880      2401.0  2.109842     37.86   \n",
       "2  7.2574      52.0  8.288136   1.073446       496.0  2.802260     37.85   \n",
       "3  5.6431      52.0  5.817352   1.073059       558.0  2.547945     37.85   \n",
       "4  3.8462      52.0  6.281853   1.081081       565.0  2.181467     37.85   \n",
       "\n",
       "   Longitude  Price  \n",
       "0    -122.23  4.526  \n",
       "1    -122.22  3.585  \n",
       "2    -122.24  3.521  \n",
       "3    -122.25  3.413  \n",
       "4    -122.25  3.422  "
      ]
     },
     "execution_count": 3,
     "metadata": {},
     "output_type": "execute_result"
    }
   ],
   "source": [
    "# prepare the dataset\n",
    "data = pd.DataFrame(housing.data, columns=housing.feature_names)\n",
    "data['Price'] = housing.target\n",
    "data.head()\n"
   ]
  },
  {
   "cell_type": "code",
   "execution_count": 4,
   "metadata": {},
   "outputs": [],
   "source": [
    "from urllib.parse import urlparse\n",
    "\n",
    "# independent and dependent variables\n",
    "X = data.drop('Price', axis=1)\n",
    "y = data['Price']"
   ]
  },
  {
   "cell_type": "code",
   "execution_count": 5,
   "metadata": {},
   "outputs": [
    {
     "data": {
      "application/vnd.microsoft.datawrangler.viewer.v0+json": {
       "columns": [
        {
         "name": "index",
         "rawType": "int64",
         "type": "integer"
        },
        {
         "name": "MedInc",
         "rawType": "float64",
         "type": "float"
        },
        {
         "name": "HouseAge",
         "rawType": "float64",
         "type": "float"
        },
        {
         "name": "AveRooms",
         "rawType": "float64",
         "type": "float"
        },
        {
         "name": "AveBedrms",
         "rawType": "float64",
         "type": "float"
        },
        {
         "name": "Population",
         "rawType": "float64",
         "type": "float"
        },
        {
         "name": "AveOccup",
         "rawType": "float64",
         "type": "float"
        },
        {
         "name": "Latitude",
         "rawType": "float64",
         "type": "float"
        },
        {
         "name": "Longitude",
         "rawType": "float64",
         "type": "float"
        }
       ],
       "ref": "2804cc34-8b72-407b-9e9c-8b2bb1f4f615",
       "rows": [
        [
         "20046",
         "1.6812",
         "25.0",
         "4.192200557103064",
         "1.0222841225626742",
         "1392.0",
         "3.8774373259052926",
         "36.06",
         "-119.01"
        ],
        [
         "3024",
         "2.5313",
         "30.0",
         "5.039383561643835",
         "1.1934931506849316",
         "1565.0",
         "2.6797945205479454",
         "35.14",
         "-119.46"
        ],
        [
         "15663",
         "3.4801",
         "52.0",
         "3.977154724818276",
         "1.185877466251298",
         "1310.0",
         "1.3603322949117342",
         "37.8",
         "-122.44"
        ],
        [
         "20484",
         "5.7376",
         "17.0",
         "6.163636363636364",
         "1.02020202020202",
         "1705.0",
         "3.4444444444444446",
         "34.28",
         "-118.72"
        ],
        [
         "9814",
         "3.725",
         "34.0",
         "5.492990654205608",
         "1.02803738317757",
         "1063.0",
         "2.4836448598130842",
         "36.62",
         "-121.93"
        ],
        [
         "13311",
         "4.7147",
         "12.0",
         "5.251482799525504",
         "0.9750889679715302",
         "2400.0",
         "2.8469750889679717",
         "34.08",
         "-117.61"
        ],
        [
         "7113",
         "5.0839",
         "36.0",
         "6.221719457013575",
         "1.0950226244343892",
         "670.0",
         "3.0316742081447963",
         "33.89",
         "-118.02"
        ],
        [
         "7668",
         "3.6908",
         "38.0",
         "4.962825278810409",
         "1.0483271375464684",
         "1011.0",
         "3.758364312267658",
         "33.92",
         "-118.08"
        ],
        [
         "18246",
         "4.8036",
         "4.0",
         "3.9246575342465753",
         "1.0359589041095891",
         "1050.0",
         "1.797945205479452",
         "37.39",
         "-122.08"
        ],
        [
         "5723",
         "8.1132",
         "45.0",
         "6.87905604719764",
         "1.0117994100294985",
         "943.0",
         "2.781710914454277",
         "34.18",
         "-118.23"
        ],
        [
         "20069",
         "2.5417",
         "30.0",
         "5.086021505376344",
         "1.1720430107526882",
         "242.0",
         "2.6021505376344085",
         "38.01",
         "-120.37"
        ],
        [
         "6835",
         "3.0",
         "35.0",
         "3.6141479099678455",
         "0.9887459807073955",
         "1762.0",
         "2.832797427652733",
         "34.08",
         "-118.12"
        ],
        [
         "11351",
         "2.8594",
         "20.0",
         "4.151458137347131",
         "1.118532455315146",
         "4818.0",
         "4.532455315145814",
         "33.76",
         "-117.91"
        ],
        [
         "20267",
         "3.3409",
         "18.0",
         "4.646983311938382",
         "1.0937098844672657",
         "3171.0",
         "4.070603337612323",
         "34.2",
         "-119.19"
        ],
        [
         "7097",
         "5.3668",
         "27.0",
         "6.702898550724638",
         "1.0289855072463767",
         "1793.0",
         "3.2481884057971016",
         "33.92",
         "-117.98"
        ],
        [
         "6298",
         "3.8201",
         "22.0",
         "5.01119104716227",
         "1.0223820943245403",
         "5587.0",
         "4.466027178257394",
         "34.02",
         "-117.91"
        ],
        [
         "696",
         "3.9063",
         "41.0",
         "4.633540372670807",
         "0.9006211180124224",
         "387.0",
         "2.4037267080745344",
         "37.69",
         "-122.1"
        ],
        [
         "19607",
         "4.1346",
         "26.0",
         "5.626506024096385",
         "1.1204819277108433",
         "244.0",
         "2.9397590361445785",
         "37.48",
         "-121.02"
        ],
        [
         "14173",
         "3.8233",
         "36.0",
         "5.18974358974359",
         "1.0461538461538462",
         "1030.0",
         "2.641025641025641",
         "32.75",
         "-117.05"
        ],
        [
         "19638",
         "2.1875",
         "27.0",
         "5.267175572519084",
         "1.0305343511450382",
         "810.0",
         "3.0916030534351147",
         "37.43",
         "-120.97"
        ],
        [
         "18332",
         "4.2297",
         "47.0",
         "3.8737419945105214",
         "1.0576395242451968",
         "1808.0",
         "1.6541628545288198",
         "37.45",
         "-122.16"
        ],
        [
         "4691",
         "4.3667",
         "50.0",
         "4.881782945736434",
         "1.0406976744186047",
         "1117.0",
         "2.1647286821705425",
         "34.07",
         "-118.37"
        ],
        [
         "2323",
         "5.3478",
         "8.0",
         "6.210344827586207",
         "0.9431034482758621",
         "1959.0",
         "3.377586206896552",
         "36.83",
         "-119.73"
        ],
        [
         "16880",
         "6.1323",
         "32.0",
         "6.28951048951049",
         "1.020979020979021",
         "1846.0",
         "2.581818181818182",
         "37.59",
         "-122.39"
        ],
        [
         "14521",
         "4.2234",
         "16.0",
         "4.682678311499272",
         "1.042212518195051",
         "2054.0",
         "2.98981077147016",
         "32.9",
         "-117.14"
        ],
        [
         "19833",
         "1.9602",
         "38.0",
         "4.3720136518771335",
         "1.0136518771331058",
         "1423.0",
         "4.856655290102389",
         "36.53",
         "-119.38"
        ],
        [
         "8383",
         "2.5504",
         "26.0",
         "3.725552050473186",
         "1.1093585699263933",
         "2742.0",
         "2.8832807570977916",
         "33.96",
         "-118.36"
        ],
        [
         "2647",
         "3.25",
         "38.0",
         "5.978021978021978",
         "0.978021978021978",
         "240.0",
         "2.6373626373626373",
         "40.55",
         "-124.13"
        ],
        [
         "1456",
         "3.65",
         "22.0",
         "5.531481481481482",
         "1.0425925925925925",
         "1420.0",
         "2.6296296296296298",
         "37.96",
         "-121.98"
        ],
        [
         "5678",
         "6.2028",
         "35.0",
         "6.326530612244898",
         "1.0136054421768708",
         "1167.0",
         "2.6462585034013606",
         "33.72",
         "-118.3"
        ],
        [
         "341",
         "1.6196",
         "38.0",
         "3.83011583011583",
         "1.0772200772200773",
         "732.0",
         "2.8262548262548264",
         "37.75",
         "-122.17"
        ],
        [
         "4852",
         "1.23",
         "47.0",
         "5.36734693877551",
         "1.0081632653061225",
         "785.0",
         "3.204081632653061",
         "34.03",
         "-118.31"
        ],
        [
         "14386",
         "3.4286",
         "5.0",
         "4.28169014084507",
         "1.1948356807511737",
         "892.0",
         "2.0938967136150235",
         "32.75",
         "-117.23"
        ],
        [
         "18261",
         "7.1108",
         "29.0",
         "6.335051546391752",
         "0.9896907216494846",
         "707.0",
         "3.6443298969072164",
         "37.37",
         "-122.08"
        ],
        [
         "16105",
         "3.4919",
         "44.0",
         "5.138418079096045",
         "1.0310734463276836",
         "1137.0",
         "3.211864406779661",
         "37.75",
         "-122.5"
        ],
        [
         "9149",
         "5.5061",
         "17.0",
         "6.923128792987188",
         "1.1348617666891436",
         "4956.0",
         "3.341874578556979",
         "34.46",
         "-118.5"
        ],
        [
         "16879",
         "4.375",
         "34.0",
         "4.532051282051282",
         "1.0192307692307692",
         "381.0",
         "2.4423076923076925",
         "37.6",
         "-122.39"
        ],
        [
         "6253",
         "3.4115",
         "35.0",
         "5.193548387096774",
         "1.0099255583126552",
         "1755.0",
         "4.354838709677419",
         "34.03",
         "-117.96"
        ],
        [
         "11741",
         "3.0917",
         "48.0",
         "6.059139784946237",
         "1.010752688172043",
         "530.0",
         "2.849462365591398",
         "38.87",
         "-121.13"
        ],
        [
         "7330",
         "2.7321",
         "41.0",
         "3.5660377358490565",
         "0.9198113207547169",
         "873.0",
         "4.117924528301887",
         "33.98",
         "-118.17"
        ],
        [
         "20460",
         "6.6073",
         "17.0",
         "6.771498771498772",
         "0.9398034398034398",
         "2734.0",
         "3.3587223587223587",
         "34.29",
         "-118.75"
        ],
        [
         "2412",
         "3.7917",
         "24.0",
         "5.3580246913580245",
         "0.9547325102880658",
         "693.0",
         "2.8518518518518516",
         "36.61",
         "-119.45"
        ],
        [
         "19391",
         "2.2679",
         "25.0",
         "3.9716981132075473",
         "0.9622641509433962",
         "303.0",
         "2.858490566037736",
         "37.78",
         "-120.85"
        ],
        [
         "11441",
         "3.4679",
         "18.0",
         "3.8483935742971886",
         "1.0602409638554218",
         "2192.0",
         "2.2008032128514055",
         "33.73",
         "-117.98"
        ],
        [
         "13332",
         "3.9336",
         "15.0",
         "5.553191489361702",
         "1.0687397708674304",
         "2039.0",
         "3.337152209492635",
         "34.04",
         "-117.65"
        ],
        [
         "3721",
         "3.0221",
         "28.0",
         "4.5943012211668925",
         "1.1058344640434192",
         "2240.0",
         "3.039348710990502",
         "34.2",
         "-118.43"
        ],
        [
         "14986",
         "3.5096",
         "34.0",
         "5.1525",
         "0.9775",
         "1169.0",
         "2.9225",
         "32.73",
         "-117.03"
        ],
        [
         "14152",
         "3.0875",
         "31.0",
         "5.680890538033395",
         "1.1057513914656771",
         "1263.0",
         "2.3432282003710574",
         "32.77",
         "-117.09"
        ],
        [
         "5654",
         "2.7451",
         "42.0",
         "4.295285359801489",
         "1.0794044665012408",
         "866.0",
         "2.1488833746898264",
         "33.73",
         "-118.3"
        ],
        [
         "2578",
         "3.2216",
         "34.0",
         "6.252615844544096",
         "1.0493273542600896",
         "1891.0",
         "2.82660687593423",
         "40.86",
         "-124.06"
        ]
       ],
       "shape": {
        "columns": 8,
        "rows": 4128
       }
      },
      "text/html": [
       "<div>\n",
       "<style scoped>\n",
       "    .dataframe tbody tr th:only-of-type {\n",
       "        vertical-align: middle;\n",
       "    }\n",
       "\n",
       "    .dataframe tbody tr th {\n",
       "        vertical-align: top;\n",
       "    }\n",
       "\n",
       "    .dataframe thead th {\n",
       "        text-align: right;\n",
       "    }\n",
       "</style>\n",
       "<table border=\"1\" class=\"dataframe\">\n",
       "  <thead>\n",
       "    <tr style=\"text-align: right;\">\n",
       "      <th></th>\n",
       "      <th>MedInc</th>\n",
       "      <th>HouseAge</th>\n",
       "      <th>AveRooms</th>\n",
       "      <th>AveBedrms</th>\n",
       "      <th>Population</th>\n",
       "      <th>AveOccup</th>\n",
       "      <th>Latitude</th>\n",
       "      <th>Longitude</th>\n",
       "    </tr>\n",
       "  </thead>\n",
       "  <tbody>\n",
       "    <tr>\n",
       "      <th>20046</th>\n",
       "      <td>1.6812</td>\n",
       "      <td>25.0</td>\n",
       "      <td>4.192201</td>\n",
       "      <td>1.022284</td>\n",
       "      <td>1392.0</td>\n",
       "      <td>3.877437</td>\n",
       "      <td>36.06</td>\n",
       "      <td>-119.01</td>\n",
       "    </tr>\n",
       "    <tr>\n",
       "      <th>3024</th>\n",
       "      <td>2.5313</td>\n",
       "      <td>30.0</td>\n",
       "      <td>5.039384</td>\n",
       "      <td>1.193493</td>\n",
       "      <td>1565.0</td>\n",
       "      <td>2.679795</td>\n",
       "      <td>35.14</td>\n",
       "      <td>-119.46</td>\n",
       "    </tr>\n",
       "    <tr>\n",
       "      <th>15663</th>\n",
       "      <td>3.4801</td>\n",
       "      <td>52.0</td>\n",
       "      <td>3.977155</td>\n",
       "      <td>1.185877</td>\n",
       "      <td>1310.0</td>\n",
       "      <td>1.360332</td>\n",
       "      <td>37.80</td>\n",
       "      <td>-122.44</td>\n",
       "    </tr>\n",
       "    <tr>\n",
       "      <th>20484</th>\n",
       "      <td>5.7376</td>\n",
       "      <td>17.0</td>\n",
       "      <td>6.163636</td>\n",
       "      <td>1.020202</td>\n",
       "      <td>1705.0</td>\n",
       "      <td>3.444444</td>\n",
       "      <td>34.28</td>\n",
       "      <td>-118.72</td>\n",
       "    </tr>\n",
       "    <tr>\n",
       "      <th>9814</th>\n",
       "      <td>3.7250</td>\n",
       "      <td>34.0</td>\n",
       "      <td>5.492991</td>\n",
       "      <td>1.028037</td>\n",
       "      <td>1063.0</td>\n",
       "      <td>2.483645</td>\n",
       "      <td>36.62</td>\n",
       "      <td>-121.93</td>\n",
       "    </tr>\n",
       "    <tr>\n",
       "      <th>...</th>\n",
       "      <td>...</td>\n",
       "      <td>...</td>\n",
       "      <td>...</td>\n",
       "      <td>...</td>\n",
       "      <td>...</td>\n",
       "      <td>...</td>\n",
       "      <td>...</td>\n",
       "      <td>...</td>\n",
       "    </tr>\n",
       "    <tr>\n",
       "      <th>15362</th>\n",
       "      <td>4.6050</td>\n",
       "      <td>16.0</td>\n",
       "      <td>7.002212</td>\n",
       "      <td>1.066372</td>\n",
       "      <td>1351.0</td>\n",
       "      <td>2.988938</td>\n",
       "      <td>33.36</td>\n",
       "      <td>-117.22</td>\n",
       "    </tr>\n",
       "    <tr>\n",
       "      <th>16623</th>\n",
       "      <td>2.7266</td>\n",
       "      <td>28.0</td>\n",
       "      <td>6.131915</td>\n",
       "      <td>1.256738</td>\n",
       "      <td>1650.0</td>\n",
       "      <td>2.340426</td>\n",
       "      <td>35.36</td>\n",
       "      <td>-120.83</td>\n",
       "    </tr>\n",
       "    <tr>\n",
       "      <th>18086</th>\n",
       "      <td>9.2298</td>\n",
       "      <td>25.0</td>\n",
       "      <td>7.237676</td>\n",
       "      <td>0.947183</td>\n",
       "      <td>1585.0</td>\n",
       "      <td>2.790493</td>\n",
       "      <td>37.31</td>\n",
       "      <td>-122.05</td>\n",
       "    </tr>\n",
       "    <tr>\n",
       "      <th>2144</th>\n",
       "      <td>2.7850</td>\n",
       "      <td>36.0</td>\n",
       "      <td>5.289030</td>\n",
       "      <td>0.983122</td>\n",
       "      <td>1227.0</td>\n",
       "      <td>2.588608</td>\n",
       "      <td>36.77</td>\n",
       "      <td>-119.76</td>\n",
       "    </tr>\n",
       "    <tr>\n",
       "      <th>3665</th>\n",
       "      <td>3.5521</td>\n",
       "      <td>17.0</td>\n",
       "      <td>3.988839</td>\n",
       "      <td>1.033482</td>\n",
       "      <td>1671.0</td>\n",
       "      <td>3.729911</td>\n",
       "      <td>34.22</td>\n",
       "      <td>-118.37</td>\n",
       "    </tr>\n",
       "  </tbody>\n",
       "</table>\n",
       "<p>4128 rows × 8 columns</p>\n",
       "</div>"
      ],
      "text/plain": [
       "       MedInc  HouseAge  AveRooms  AveBedrms  Population  AveOccup  Latitude  \\\n",
       "20046  1.6812      25.0  4.192201   1.022284      1392.0  3.877437     36.06   \n",
       "3024   2.5313      30.0  5.039384   1.193493      1565.0  2.679795     35.14   \n",
       "15663  3.4801      52.0  3.977155   1.185877      1310.0  1.360332     37.80   \n",
       "20484  5.7376      17.0  6.163636   1.020202      1705.0  3.444444     34.28   \n",
       "9814   3.7250      34.0  5.492991   1.028037      1063.0  2.483645     36.62   \n",
       "...       ...       ...       ...        ...         ...       ...       ...   \n",
       "15362  4.6050      16.0  7.002212   1.066372      1351.0  2.988938     33.36   \n",
       "16623  2.7266      28.0  6.131915   1.256738      1650.0  2.340426     35.36   \n",
       "18086  9.2298      25.0  7.237676   0.947183      1585.0  2.790493     37.31   \n",
       "2144   2.7850      36.0  5.289030   0.983122      1227.0  2.588608     36.77   \n",
       "3665   3.5521      17.0  3.988839   1.033482      1671.0  3.729911     34.22   \n",
       "\n",
       "       Longitude  \n",
       "20046    -119.01  \n",
       "3024     -119.46  \n",
       "15663    -122.44  \n",
       "20484    -118.72  \n",
       "9814     -121.93  \n",
       "...          ...  \n",
       "15362    -117.22  \n",
       "16623    -120.83  \n",
       "18086    -122.05  \n",
       "2144     -119.76  \n",
       "3665     -118.37  \n",
       "\n",
       "[4128 rows x 8 columns]"
      ]
     },
     "execution_count": 5,
     "metadata": {},
     "output_type": "execute_result"
    }
   ],
   "source": [
    "#split the dataset into training and testing sets\n",
    "X_train, X_test, y_train, y_test = train_test_split(X, y, test_size=0.2, random_state=42)\n",
    "X_test"
   ]
  },
  {
   "cell_type": "code",
   "execution_count": 6,
   "metadata": {},
   "outputs": [],
   "source": [
    "## hyperparameter tuning using GridSearchCV\n",
    "def hyperparameter_tuning(X_train, y_train, param_grid):\n",
    "    rf = RandomForestRegressor(random_state=42)\n",
    "    grid_search = GridSearchCV(estimator=rf, param_grid=param_grid, cv=3, n_jobs=-1, verbose=2,\n",
    "                               scoring='neg_mean_squared_error')\n",
    "    grid_search.fit(X_train, y_train)\n",
    "    return grid_search"
   ]
  },
  {
   "cell_type": "code",
   "execution_count": 7,
   "metadata": {},
   "outputs": [
    {
     "name": "stdout",
     "output_type": "stream",
     "text": [
      "Fitting 3 folds for each of 32 candidates, totalling 96 fits\n"
     ]
    },
    {
     "name": "stderr",
     "output_type": "stream",
     "text": [
      "2025/07/01 17:15:49 WARNING mlflow.models.model: `artifact_path` is deprecated. Please use `name` instead.\n",
      "2025/07/01 17:15:52 WARNING mlflow.models.model: Model logged without a signature and input example. Please set `input_example` parameter when logging the model to auto infer the model signature.\n",
      "Registered model 'Best Random Forest Model' already exists. Creating a new version of this model...\n",
      "2025/07/01 17:15:54 INFO mlflow.store.model_registry.abstract_store: Waiting up to 300 seconds for model version to finish creation. Model name: Best Random Forest Model, version 3\n"
     ]
    },
    {
     "name": "stdout",
     "output_type": "stream",
     "text": [
      "🏃 View run kindly-bug-896 at: http://127.0.0.1:5000/#/experiments/0/runs/992894fed63e4bc89094733e63dca729\n",
      "🧪 View experiment at: http://127.0.0.1:5000/#/experiments/0\n"
     ]
    },
    {
     "name": "stderr",
     "output_type": "stream",
     "text": [
      "Created version '3' of model 'Best Random Forest Model'.\n"
     ]
    }
   ],
   "source": [
    "from mlflow.models import infer_signature\n",
    "import mlflow.sklearn\n",
    "signature = infer_signature(X_train, y_train)\n",
    "\n",
    "# define the hyperparameters for the model\n",
    "param_grid = {\n",
    "    'n_estimators': [100, 200],\n",
    "    'max_depth': [5, 10, 15, 20],\n",
    "    'min_samples_split': [2, 5],\n",
    "    'min_samples_leaf': [1, 2]\n",
    "}\n",
    "\n",
    "#start an MLflow run\n",
    "with mlflow.start_run():\n",
    "    # perform hyperparameter tuning\n",
    "    grid_search = hyperparameter_tuning(X_train, y_train, param_grid)\n",
    "    best_rf = grid_search.best_estimator_\n",
    "\n",
    "    # evaluate the model\n",
    "    y_pred = best_rf.predict(X_test)\n",
    "    mse = mean_squared_error(y_test, y_pred)\n",
    "\n",
    "    # log the model and metrics\n",
    "    mlflow.log_param(\"best_n_estimators\", grid_search.best_params_['n_estimators'])\n",
    "    mlflow.log_param(\"best_max_depth\", grid_search.best_params_['max_depth'])\n",
    "    mlflow.log_param(\"best_min_samples_split\", grid_search.best_params_['min_samples_split'])\n",
    "    mlflow.log_param(\"best_min_samples_leaf\", grid_search.best_params_['min_samples_leaf'])\n",
    "    mlflow.log_metric(\"mse\", mse)\n",
    "\n",
    "    # tracking uri\n",
    "    mlflow.set_tracking_uri(\"http://127.0.0.1:5000\")\n",
    "\n",
    "    tracking_uri_type_store=urlparse(mlflow.get_tracking_uri()).scheme\n",
    "\n",
    "    if tracking_uri_type_store != \"file\":\n",
    "        mlflow.sklearn.log_model(best_rf, \"model\", registered_model_name=\"Best Random Forest Model\")\n",
    "    else:\n",
    "        mlflow.sklearn.log_model(best_rf, \"model\", signature=signature)\n"
   ]
  }
 ],
 "metadata": {
  "kernelspec": {
   "display_name": "MLflow",
   "language": "python",
   "name": "python3"
  },
  "language_info": {
   "codemirror_mode": {
    "name": "ipython",
    "version": 3
   },
   "file_extension": ".py",
   "mimetype": "text/x-python",
   "name": "python",
   "nbconvert_exporter": "python",
   "pygments_lexer": "ipython3",
   "version": "3.10.18"
  }
 },
 "nbformat": 4,
 "nbformat_minor": 2
}
